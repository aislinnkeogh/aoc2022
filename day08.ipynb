{
 "cells": [
  {
   "cell_type": "code",
   "execution_count": null,
   "metadata": {},
   "outputs": [],
   "source": [
    "import numpy as np"
   ]
  },
  {
   "cell_type": "code",
   "execution_count": null,
   "metadata": {},
   "outputs": [],
   "source": [
    "with open(\"input_day8.txt\") as f:\n",
    "    trees = np.array([[int(t) for t in line.rstrip(\"\\n\")] for line in f.readlines()])"
   ]
  },
  {
   "cell_type": "code",
   "execution_count": null,
   "metadata": {},
   "outputs": [],
   "source": [
    "trees"
   ]
  },
  {
   "cell_type": "code",
   "execution_count": null,
   "metadata": {},
   "outputs": [],
   "source": [
    "sample = np.array([[3, 0, 3, 7, 3], [2, 5, 5, 1, 2], [6, 5, 3, 3, 2], [3, 3, 5, 4, 9], [3, 5, 3, 9, 0]])"
   ]
  },
  {
   "cell_type": "code",
   "execution_count": null,
   "metadata": {},
   "outputs": [],
   "source": [
    "sample"
   ]
  },
  {
   "cell_type": "code",
   "execution_count": null,
   "metadata": {},
   "outputs": [],
   "source": [
    "sample_zeros = np.zeros_like(sample)\n",
    "sample_zeros[:, [0,-1]] = sample_zeros[[0, -1], :] = 1"
   ]
  },
  {
   "cell_type": "code",
   "execution_count": null,
   "metadata": {},
   "outputs": [],
   "source": [
    "for h in range(1,sample.shape[0]-1):\n",
    "    for v in range(1,sample.shape[1]-1):\n",
    "        # if it's taller than the next tallest thing in any outward direction, it's visible\n",
    "        if any([sample[h, v] > np.max(sample[:h, v]), sample[h, v] > np.max(sample[h+1:, v]),\n",
    "                sample[h, v] > np.max(sample[h, :v]), sample[h, v] > np.max(sample[h, v+1:])]):\n",
    "                sample_zeros[h, v] = 1"
   ]
  },
  {
   "cell_type": "code",
   "execution_count": null,
   "metadata": {},
   "outputs": [],
   "source": [
    "sample_zeros"
   ]
  },
  {
   "cell_type": "code",
   "execution_count": null,
   "metadata": {},
   "outputs": [],
   "source": [
    "def find_visible_trees(grid):\n",
    "    \n",
    "    visible = np.zeros_like(grid)\n",
    "    # everything on the edges is visible\n",
    "    visible[:, [0, -1]] = visible[[0, -1], :] = 1\n",
    "    \n",
    "    # to access only the middle values, go from row 1 to row -1, and col 1 to col -1\n",
    "    for h in range(1, grid.shape[0]-1):\n",
    "        for v in range(1, grid.shape[1]-1):\n",
    "            t = grid[h,v]\n",
    "            # if the current value is bigger than any values in any direction, it's visible\n",
    "            if any([t>np.max(grid[:h, v]), t>np.max(grid[h+1:, v]), t>np.max(grid[h, :v]), t>np.max(grid[h, v+1:])]):\n",
    "                visible[h,v] = 1\n",
    "                \n",
    "    return np.sum(visible)"
   ]
  },
  {
   "cell_type": "code",
   "execution_count": null,
   "metadata": {},
   "outputs": [],
   "source": [
    "find_visible_trees(sample)"
   ]
  },
  {
   "cell_type": "code",
   "execution_count": null,
   "metadata": {},
   "outputs": [],
   "source": [
    "# Part 1\n",
    "find_visible_trees(trees)"
   ]
  },
  {
   "cell_type": "code",
   "execution_count": null,
   "metadata": {},
   "outputs": [],
   "source": [
    "sample"
   ]
  },
  {
   "cell_type": "code",
   "execution_count": null,
   "metadata": {},
   "outputs": [],
   "source": [
    "# again, don't need to consider edges since they have 0 viewing distance in one direction, so scenic score will be 0\n",
    "scenic_scores = []\n",
    "# current_score = 0\n",
    "\n",
    "for h in range(1,sample.shape[0]-1):\n",
    "    for v in range(1,sample.shape[1]-1):\n",
    "        # go left by as many spaces as are open\n",
    "        for i in range(1, sample[h, :v+1].size):\n",
    "            if sample[h, v-i] >= sample[h, v]:\n",
    "                break\n",
    "        current_score = i\n",
    "        # right\n",
    "        for i in range(1, sample[h, v:].size):\n",
    "            if sample[h, v+i] >= sample[h, v]:\n",
    "                break\n",
    "        current_score *= i\n",
    "        # up\n",
    "        for i in range(1, sample[:h+1, v].size):\n",
    "            if sample[h-i, v] >= sample[h, v]:\n",
    "                break\n",
    "        current_score *= i\n",
    "        # down\n",
    "        for i in range(1, sample[h:, v].size):\n",
    "            if sample[h+i, v] >= sample[h, v]:\n",
    "                break\n",
    "        current_score *= i\n",
    "        scenic_scores.append(current_score)\n",
    "        current_score = 0"
   ]
  },
  {
   "cell_type": "code",
   "execution_count": null,
   "metadata": {},
   "outputs": [],
   "source": [
    "scenic_scores"
   ]
  },
  {
   "cell_type": "code",
   "execution_count": null,
   "metadata": {},
   "outputs": [],
   "source": [
    "def get_scenic_scores(grid):\n",
    "    \n",
    "    scenic_scores = []\n",
    "    \n",
    "    for h in range(1, grid.shape[0]-1):\n",
    "        for v in range(1, grid.shape[1]-1):\n",
    "            t = grid[h, v]\n",
    "            # left\n",
    "            for i in range(1, grid[h, :v+1].size):\n",
    "                if grid[h, v-i] >= t:\n",
    "                    break\n",
    "            current_score = i\n",
    "            # right\n",
    "            for i in range(1, grid[h, v:].size):\n",
    "                if grid[h, v+i] >= t:\n",
    "                    break\n",
    "            current_score *= i\n",
    "            # up\n",
    "            for i in range(1, grid[:h+1, v].size):\n",
    "                if grid[h-i, v] >= t:\n",
    "                    break\n",
    "            current_score *= i\n",
    "            # down\n",
    "            for i in range(1, grid[h:, v].size):\n",
    "                if grid[h+i, v] >= t:\n",
    "                    break\n",
    "            current_score *= i\n",
    "            scenic_scores.append(current_score)\n",
    "            current_score = 0\n",
    "    \n",
    "    return max(scenic_scores)"
   ]
  },
  {
   "cell_type": "code",
   "execution_count": null,
   "metadata": {},
   "outputs": [],
   "source": [
    "get_scenic_scores(sample)"
   ]
  },
  {
   "cell_type": "code",
   "execution_count": null,
   "metadata": {},
   "outputs": [],
   "source": [
    "# Part 2\n",
    "get_scenic_scores(grid)"
   ]
  },
  {
   "cell_type": "code",
   "execution_count": null,
   "metadata": {},
   "outputs": [],
   "source": [
    "# left\n",
    "for i in range(1, sample[3, :2+1].size):\n",
    "    print(sample[3, 2-i])"
   ]
  },
  {
   "cell_type": "code",
   "execution_count": null,
   "metadata": {},
   "outputs": [],
   "source": [
    "# right\n",
    "for i in range(1, sample[3, 2:].size):\n",
    "    print(sample[3, 2+i])"
   ]
  },
  {
   "cell_type": "code",
   "execution_count": null,
   "metadata": {},
   "outputs": [],
   "source": [
    "# up\n",
    "for i in range(1, sample[:3+1, 2].size):\n",
    "    print(sample[3-i, 2])"
   ]
  },
  {
   "cell_type": "code",
   "execution_count": null,
   "metadata": {},
   "outputs": [],
   "source": [
    "# down\n",
    "for i in range(1, sample[3:, 2].size):\n",
    "    print(sample[3+i, 2])"
   ]
  }
 ],
 "metadata": {
  "kernelspec": {
   "display_name": "Python 3",
   "language": "python",
   "name": "python3"
  },
  "language_info": {
   "codemirror_mode": {
    "name": "ipython",
    "version": 3
   },
   "file_extension": ".py",
   "mimetype": "text/x-python",
   "name": "python",
   "nbconvert_exporter": "python",
   "pygments_lexer": "ipython3",
   "version": "3.7.6"
  }
 },
 "nbformat": 4,
 "nbformat_minor": 4
}
