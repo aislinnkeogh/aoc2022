{
 "cells": [
  {
   "cell_type": "code",
   "execution_count": null,
   "metadata": {},
   "outputs": [],
   "source": [
    "from pathlib import Path"
   ]
  },
  {
   "cell_type": "code",
   "execution_count": null,
   "metadata": {},
   "outputs": [],
   "source": [
    "with open(\"input_day7.txt\") as f:\n",
    "    lines = [line.rstrip(\"\\n\") for line in f.readlines()]"
   ]
  },
  {
   "cell_type": "code",
   "execution_count": null,
   "metadata": {},
   "outputs": [],
   "source": [
    "lines"
   ]
  },
  {
   "cell_type": "code",
   "execution_count": null,
   "metadata": {},
   "outputs": [],
   "source": [
    "commands = [e for e in lines if e != \"$ ls\"] # get rid of ls commands - not used for anything\n",
    "commands[0] = \"$ cd root\" # just to make it easier to look at"
   ]
  },
  {
   "cell_type": "code",
   "execution_count": null,
   "metadata": {},
   "outputs": [],
   "source": [
    "# verify that the only things left in commands other than cd and dir are actual files\n",
    "[e for e in commands if \"$ cd\" not in e and \"dir\" not in e]"
   ]
  },
  {
   "cell_type": "code",
   "execution_count": null,
   "metadata": {},
   "outputs": [],
   "source": [
    "def get_directory_structure(commands):\n",
    "    current_level = Path(\"\")\n",
    "    directory_structure = {} \n",
    "    # keys in this object will be every single directory/subdirectory on the disk, \n",
    "    # values will be lists of other directories (as strings) and files (as a dictionary - name: size)\n",
    "    \n",
    "    for c in commands: \n",
    "        \n",
    "        # if cd, we're moving into a new directory\n",
    "        if c.startswith(\"$ cd\"):\n",
    "            # going up one level\n",
    "            if \"..\" in c:\n",
    "                current_level = current_level.parent\n",
    "            # going down one level\n",
    "            else:\n",
    "                dir_name = c.split()[2] # splitting on whitespace gets [$, cd, dir_name] so just take last element\n",
    "                current_level = current_level / dir_name\n",
    "                level = str(current_level.as_posix()) # make the path object into a string\n",
    "                # if we haven't been here before, add the current path into the directory structure\n",
    "                if level not in directory_structure.keys():\n",
    "                    directory_structure[level] = [{}] # empty dictionary which will store all files in this folder\n",
    "        \n",
    "        # if dir, it means the current directory contains some more directories so they should be added to its list of contents \n",
    "        elif c.startswith(\"dir\"):\n",
    "            dir_name = c.split()[1] # splitting on whitespace gets [dir, dir_name] so just take last element\n",
    "            level = str(current_level.as_posix())\n",
    "            directory_structure[level].append(str((current_level / dir_name).as_posix()))\n",
    "        \n",
    "        # since we stripped out ls commands at the start, anything else must be a file\n",
    "        else:\n",
    "            size, filename = c.split()\n",
    "            level = str(current_level.as_posix())\n",
    "            directory_structure[level][0][filename] = int(size)\n",
    "    \n",
    "    return directory_structure"
   ]
  },
  {
   "cell_type": "code",
   "execution_count": null,
   "metadata": {},
   "outputs": [],
   "source": [
    "get_directory_structure(commands)"
   ]
  },
  {
   "cell_type": "code",
   "execution_count": null,
   "metadata": {},
   "outputs": [],
   "source": [
    "directory_structure = get_directory_structure(commands)"
   ]
  },
  {
   "cell_type": "code",
   "execution_count": null,
   "metadata": {},
   "outputs": [],
   "source": [
    "def get_directory_size(directory, directory_structure):\n",
    "    total = 0\n",
    "    \n",
    "    for e in directory_structure[directory]:\n",
    "        # if the element is a dictionary, it's the files contained directly in this directory - sum their sizes\n",
    "        if isinstance(e, dict):\n",
    "            total += sum([v for v in e.values()])\n",
    "        # if the element is a string, it's a subdirectory - sum the size of all the files in there\n",
    "        elif isinstance(e, str):\n",
    "            total += get_directory_size(e, directory_structure)\n",
    "    \n",
    "    return total"
   ]
  },
  {
   "cell_type": "code",
   "execution_count": null,
   "metadata": {},
   "outputs": [],
   "source": [
    "def solution_p1(directory_structure, max_size=100000):\n",
    "    \n",
    "    total = 0\n",
    "    \n",
    "    for d in directory_structure:\n",
    "        size = get_directory_size(d, directory_structure)\n",
    "        if size <= max_size:\n",
    "            total += size\n",
    "\n",
    "    return total"
   ]
  },
  {
   "cell_type": "code",
   "execution_count": null,
   "metadata": {},
   "outputs": [],
   "source": [
    "solution_p1(directory_structure)"
   ]
  },
  {
   "cell_type": "markdown",
   "metadata": {},
   "source": [
    "The total disk space available to the filesystem is `70000000`. To run the update, you need unused space of at least `30000000`. You need to find a directory you can delete that will free up enough space to run the update.\n",
    "\n",
    "Find the smallest directory that, if deleted, would free up enough space on the filesystem to run the update. What is the total size of that directory?"
   ]
  },
  {
   "cell_type": "code",
   "execution_count": null,
   "metadata": {},
   "outputs": [],
   "source": [
    "available_space = 70000000 - get_directory_size('root', directory_structure)\n",
    "need_to_free_up = 30000000 - available_space"
   ]
  },
  {
   "cell_type": "code",
   "execution_count": null,
   "metadata": {},
   "outputs": [],
   "source": [
    "print(available_space)\n",
    "print(need_to_free_up)"
   ]
  },
  {
   "cell_type": "code",
   "execution_count": null,
   "metadata": {},
   "outputs": [],
   "source": [
    "directory_sizes = {}\n",
    "    \n",
    "for d in directory_structure:\n",
    "    directory_sizes[d] = get_directory_size(d, directory_structure)"
   ]
  },
  {
   "cell_type": "code",
   "execution_count": null,
   "metadata": {},
   "outputs": [],
   "source": [
    "directory_sizes"
   ]
  },
  {
   "cell_type": "code",
   "execution_count": null,
   "metadata": {},
   "outputs": [],
   "source": [
    "# Part 2\n",
    "min([v for v in directory_sizes.values() if v >= need_to_free_up])"
   ]
  }
 ],
 "metadata": {
  "kernelspec": {
   "display_name": "Python 3",
   "language": "python",
   "name": "python3"
  },
  "language_info": {
   "codemirror_mode": {
    "name": "ipython",
    "version": 3
   },
   "file_extension": ".py",
   "mimetype": "text/x-python",
   "name": "python",
   "nbconvert_exporter": "python",
   "pygments_lexer": "ipython3",
   "version": "3.7.6"
  }
 },
 "nbformat": 4,
 "nbformat_minor": 4
}
