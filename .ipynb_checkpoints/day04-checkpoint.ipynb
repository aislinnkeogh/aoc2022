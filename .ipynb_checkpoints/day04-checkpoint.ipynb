{
 "cells": [
  {
   "cell_type": "code",
   "execution_count": null,
   "metadata": {},
   "outputs": [],
   "source": [
    "with open(\"input_day4.txt\") as f:\n",
    "    pairs = [line.rstrip(\"\\n\").split(\",\") for line in f.readlines()]"
   ]
  },
  {
   "cell_type": "code",
   "execution_count": null,
   "metadata": {},
   "outputs": [],
   "source": [
    "pairs"
   ]
  },
  {
   "cell_type": "code",
   "execution_count": null,
   "metadata": {},
   "outputs": [],
   "source": [
    "sections = []\n",
    "for i in range(len(pairs)):\n",
    "    sections.append([[], []])\n",
    "    sections[i][0] = [j for j in range(int(pairs[i][0].split(\"-\")[0]), int(pairs[i][0].split(\"-\")[1])+1)]\n",
    "    sections[i][1] = [k for k in range(int(pairs[i][1].split(\"-\")[0]), int(pairs[i][1].split(\"-\")[1])+1)]"
   ]
  },
  {
   "cell_type": "code",
   "execution_count": null,
   "metadata": {},
   "outputs": [],
   "source": [
    "sections"
   ]
  },
  {
   "cell_type": "code",
   "execution_count": null,
   "metadata": {},
   "outputs": [],
   "source": [
    "result_p1 = 0\n",
    "for i in range(len(sections)):\n",
    "    if all(e in sections[i][1] for e in sections[i][0]) or all(e in sections[i][0] for e in sections[i][1]):\n",
    "        result_p1 += 1"
   ]
  },
  {
   "cell_type": "code",
   "execution_count": null,
   "metadata": {},
   "outputs": [],
   "source": [
    "result_p1"
   ]
  },
  {
   "cell_type": "code",
   "execution_count": null,
   "metadata": {},
   "outputs": [],
   "source": [
    "result_p2 = 0\n",
    "for i in range(len(sections)):\n",
    "    if any(e in sections[i][1] for e in sections[i][0]) or any(e in sections[i][0] for e in sections[i][1]):\n",
    "        result_p2 += 1"
   ]
  },
  {
   "cell_type": "code",
   "execution_count": null,
   "metadata": {},
   "outputs": [],
   "source": [
    "result_p2"
   ]
  }
 ],
 "metadata": {
  "kernelspec": {
   "display_name": "Python 3",
   "language": "python",
   "name": "python3"
  },
  "language_info": {
   "codemirror_mode": {
    "name": "ipython",
    "version": 3
   },
   "file_extension": ".py",
   "mimetype": "text/x-python",
   "name": "python",
   "nbconvert_exporter": "python",
   "pygments_lexer": "ipython3",
   "version": "3.7.6"
  }
 },
 "nbformat": 4,
 "nbformat_minor": 4
}
