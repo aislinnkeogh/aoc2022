{
 "cells": [
  {
   "cell_type": "code",
   "execution_count": null,
   "metadata": {},
   "outputs": [],
   "source": [
    "elves = [[]]\n",
    "with open('input_day1.txt') as f:\n",
    "    for e in f.readlines():\n",
    "        if e == \"\\n\":\n",
    "            elves.append([])\n",
    "        else:\n",
    "            elves[-1].append(int(e))"
   ]
  },
  {
   "cell_type": "code",
   "execution_count": null,
   "metadata": {},
   "outputs": [],
   "source": [
    "totals = [sum(elf) for elf in elves]"
   ]
  },
  {
   "cell_type": "code",
   "execution_count": null,
   "metadata": {},
   "outputs": [],
   "source": [
    "max(totals)"
   ]
  },
  {
   "cell_type": "code",
   "execution_count": null,
   "metadata": {},
   "outputs": [],
   "source": [
    "def get_top_n(ls, n):\n",
    "    l = ls.copy()\n",
    "    if n==0:\n",
    "        return []\n",
    "    else:\n",
    "        m = max(l)\n",
    "        l.remove(m)\n",
    "        return [m, *get_top_n(l, n-1)]"
   ]
  },
  {
   "cell_type": "code",
   "execution_count": null,
   "metadata": {},
   "outputs": [],
   "source": [
    "top_3 = get_top_n(totals, 3)\n",
    "sum(top_3)"
   ]
  }
 ],
 "metadata": {
  "kernelspec": {
   "display_name": "Python 3",
   "language": "python",
   "name": "python3"
  },
  "language_info": {
   "codemirror_mode": {
    "name": "ipython",
    "version": 3
   },
   "file_extension": ".py",
   "mimetype": "text/x-python",
   "name": "python",
   "nbconvert_exporter": "python",
   "pygments_lexer": "ipython3",
   "version": "3.7.6"
  }
 },
 "nbformat": 4,
 "nbformat_minor": 4
}
