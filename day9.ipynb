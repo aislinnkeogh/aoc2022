{
 "cells": [
  {
   "cell_type": "code",
   "execution_count": null,
   "metadata": {},
   "outputs": [],
   "source": [
    "with open(\"input_day9.txt\") as f:\n",
    "    directions = [line.rstrip(\"\\n\").split(\" \") for line in f.readlines()]"
   ]
  },
  {
   "cell_type": "code",
   "execution_count": null,
   "metadata": {},
   "outputs": [],
   "source": [
    "for d in directions:\n",
    "    d[1] = int(d[1])"
   ]
  },
  {
   "cell_type": "code",
   "execution_count": null,
   "metadata": {},
   "outputs": [],
   "source": [
    "update_rules = {\n",
    "    'R': (0, 1),\n",
    "    'L': (0, -1),\n",
    "    'U': (-1, 0),\n",
    "    'D': (1, 0)\n",
    "}"
   ]
  },
  {
   "cell_type": "code",
   "execution_count": null,
   "metadata": {},
   "outputs": [],
   "source": [
    "def update_coordinates(current_pos, update_rule):\n",
    "    return (current_pos[0] + update_rule[0], current_pos[1] + update_rule[1])"
   ]
  },
  {
   "cell_type": "markdown",
   "metadata": {},
   "source": [
    "If the head is ever two steps directly up, down, left, or right from the tail, the tail must also move one step in that direction so it remains close enough.\n",
    "\n",
    "Otherwise, if the head and tail aren't touching and aren't in the same row or column, the tail always moves one step diagonally to keep up."
   ]
  },
  {
   "cell_type": "code",
   "execution_count": null,
   "metadata": {},
   "outputs": [],
   "source": [
    "test = [\n",
    "    ['R', 4],\n",
    "    ['U', 4],\n",
    "    ['L', 3],\n",
    "    ['D', 1],\n",
    "    ['R', 4],\n",
    "    ['D', 1],\n",
    "    ['L', 5],\n",
    "    ['R', 2]\n",
    "]\n",
    "\n",
    "H = (0,0)\n",
    "T = (0,0)\n",
    "H_visited = [T]\n",
    "T_visited = {T}\n",
    "\n",
    "for i in range(len(test)):\n",
    "    for j in range(test[i][1]):\n",
    "        H = update_coordinates(H, update_rules[test[i][0]])\n",
    "        H_visited.append(H)\n",
    "        if H[0] == T[0]+2 or H[0] == T[0]-2: # if it's 2 away in the up/down direction\n",
    "            T = update_coordinates(T, update_rules[test[i][0]]) # then move T 1 in the direction H just moved\n",
    "            if H[1] == T[1]-1: # if it's also 1 to the left\n",
    "                T = update_coordinates(T, update_rules[\"L\"])\n",
    "            if H[1] == T[1]+1: # if it's also 1 to the right\n",
    "                T = update_coordinates(T, update_rules[\"R\"])\n",
    "        if H[1] == T[1]+2 or H[1] == T[1]-2: # if it's 2 away in the left/right direction\n",
    "            T = update_coordinates(T, update_rules[test[i][0]]) # then move T 1 in the direction H just moved\n",
    "            if H[0] == T[0]-1: # if it's also 1 up\n",
    "                T = update_coordinates(T, update_rules[\"U\"])\n",
    "            if H[0] == T[0]+1: # if it's also 1 down\n",
    "                T = update_coordinates(T, update_rules[\"D\"])\n",
    "        T_visited.add(T)"
   ]
  },
  {
   "cell_type": "code",
   "execution_count": null,
   "metadata": {},
   "outputs": [],
   "source": [
    "print(sum([test[i][1] for i in range(len(test))]) + 1) # how many places the head should have visited\n",
    "print(len(H_visited)) # how many places it actually has visited\n",
    "# yay"
   ]
  },
  {
   "cell_type": "code",
   "execution_count": null,
   "metadata": {},
   "outputs": [],
   "source": [
    "len(T_visited)\n",
    "# yay"
   ]
  },
  {
   "cell_type": "code",
   "execution_count": null,
   "metadata": {},
   "outputs": [],
   "source": [
    "def move_tail(directions, update_rules):\n",
    "    \n",
    "    H = (0,0)\n",
    "    T = (0,0)\n",
    "    visited = {T}\n",
    "    \n",
    "    for i in range(len(directions)):\n",
    "        d = directions[i][0]\n",
    "        for _ in range(directions[i][1]):\n",
    "            H = update_coordinates(H, update_rules[d])\n",
    "            if H[0] == T[0]+2 or H[0] == T[0]-2: # if H is 2 away in the up/down direction\n",
    "                T = update_coordinates(T, update_rules[d]) # then move T 1 in the direction H just moved\n",
    "                if H[1] == T[1]-1: # if it's also 1 to the left\n",
    "                    T = update_coordinates(T, update_rules[\"L\"])\n",
    "                if H[1] == T[1]+1: # if it's also 1 to the right\n",
    "                    T = update_coordinates(T, update_rules[\"R\"])\n",
    "            if H[1] == T[1]+2 or H[1] == T[1]-2: # if H is 2 away in the left/right direction\n",
    "                T = update_coordinates(T, update_rules[d]) # then move T 1 in the direction H just moved\n",
    "                if H[0] == T[0]-1: # if it's also 1 up\n",
    "                    T = update_coordinates(T, update_rules[\"U\"])\n",
    "                if H[0] == T[0]+1: # if it's also 1 down\n",
    "                    T = update_coordinates(T, update_rules[\"D\"])\n",
    "            visited.add(T)\n",
    "        \n",
    "    return len(visited)"
   ]
  },
  {
   "cell_type": "code",
   "execution_count": null,
   "metadata": {},
   "outputs": [],
   "source": [
    "# Part 1\n",
    "move_tail(directions, update_rules)"
   ]
  }
 ],
 "metadata": {
  "kernelspec": {
   "display_name": "Python 3",
   "language": "python",
   "name": "python3"
  },
  "language_info": {
   "codemirror_mode": {
    "name": "ipython",
    "version": 3
   },
   "file_extension": ".py",
   "mimetype": "text/x-python",
   "name": "python",
   "nbconvert_exporter": "python",
   "pygments_lexer": "ipython3",
   "version": "3.7.6"
  }
 },
 "nbformat": 4,
 "nbformat_minor": 4
}
