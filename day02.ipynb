{
 "cells": [
  {
   "cell_type": "markdown",
   "metadata": {},
   "source": [
    "Appreciative of your help yesterday, one Elf gives you an encrypted strategy guide (your puzzle input) that they say will be sure to help you win. \"The first column is what your opponent is going to play: A for Rock, B for Paper, and C for Scissors. The second column--\" Suddenly, the Elf is called away to help with someone's tent.\n",
    "\n",
    "The second column, you reason, must be what you should play in response: X for Rock, Y for Paper, and Z for Scissors. Winning every time would be suspicious, so the responses must have been carefully chosen.\n",
    "\n",
    "The winner of the whole tournament is the player with the highest score. Your total score is the sum of your scores for each round. The score for a single round is the score for the shape you selected (1 for Rock, 2 for Paper, and 3 for Scissors) plus the score for the outcome of the round (0 if you lost, 3 if the round was a draw, and 6 if you won)."
   ]
  },
  {
   "cell_type": "code",
   "execution_count": null,
   "metadata": {},
   "outputs": [],
   "source": [
    "with open('input_day2.txt') as f:\n",
    "    games = [line.rstrip(\"\\n\").split() for line in f.readlines()]"
   ]
  },
  {
   "cell_type": "code",
   "execution_count": null,
   "metadata": {},
   "outputs": [],
   "source": [
    "games"
   ]
  },
  {
   "cell_type": "code",
   "execution_count": null,
   "metadata": {},
   "outputs": [],
   "source": [
    "shape_scores = {\"rock\": 1, \"paper\": 2, \"scissors\": 3}\n",
    "outcome_scores = {\"win\": 6, \"draw\": 3, \"loss\": 0}\n",
    "defeated_by = {\"rock\": \"paper\", \"paper\": \"scissors\", \"scissors\": \"rock\"} # values defeat keys\n",
    "code = {\"me\": {\"X\": \"rock\", \"Y\": \"paper\", \"Z\": \"scissors\"}, \"them\": {\"A\": \"rock\", \"B\": \"paper\", \"C\": \"scissors\"}}"
   ]
  },
  {
   "cell_type": "code",
   "execution_count": null,
   "metadata": {},
   "outputs": [],
   "source": [
    "def outcome(them, me):\n",
    "    shapes = [code[\"them\"][them], code[\"me\"][me]]\n",
    "    if defeated_by[shapes[0]] == shapes[1]:\n",
    "        outcome = \"win\"\n",
    "    elif defeated_by[shapes[1]] == shapes[0]:\n",
    "        outcome = \"loss\"\n",
    "    else:\n",
    "        outcome = \"draw\"\n",
    "    return outcome"
   ]
  },
  {
   "cell_type": "code",
   "execution_count": null,
   "metadata": {},
   "outputs": [],
   "source": [
    "def calculate_score(them, me):\n",
    "    my_shape = code[\"me\"][me]\n",
    "    score = shape_scores[my_shape] + outcome_scores[outcome(them, me)]\n",
    "    return score"
   ]
  },
  {
   "cell_type": "code",
   "execution_count": null,
   "metadata": {},
   "outputs": [],
   "source": [
    "running_total = 0\n",
    "for game in games:\n",
    "    running_total += calculate_score(game[0], game[1])"
   ]
  },
  {
   "cell_type": "code",
   "execution_count": null,
   "metadata": {},
   "outputs": [],
   "source": [
    "running_total"
   ]
  },
  {
   "cell_type": "markdown",
   "metadata": {},
   "source": [
    "The Elf finishes helping with the tent and sneaks back over to you. \"Anyway, the second column says how the round needs to end: X means you need to lose, Y means you need to end the round in a draw, and Z means you need to win. Good luck!\"\n",
    "\n",
    "The total score is still calculated in the same way, but now you need to figure out what shape to choose so the round ends as indicated. The example above now goes like this:\n",
    "\n",
    "- In the first round, your opponent will choose Rock (A), and you need the round to end in a draw (Y), so you also choose Rock. This gives you a score of 1 + 3 = 4.\n",
    "- In the second round, your opponent will choose Paper (B), and you choose Rock so you lose (X) with a score of 1 + 0 = 1.\n",
    "- In the third round, you will defeat your opponent's Scissors with Rock for a score of 1 + 6 = 7.\n",
    "\n",
    "Now that you're correctly decrypting the ultra top secret strategy guide, you would get a total score of 12.\n",
    "\n",
    "Following the Elf's instructions for the second column, what would your total score be if everything goes exactly according to your strategy guide?"
   ]
  },
  {
   "cell_type": "code",
   "execution_count": null,
   "metadata": {},
   "outputs": [],
   "source": [
    "new_code = {\"shapes\": {\"A\": \"rock\", \"B\": \"paper\", \"C\": \"scissors\"}, \n",
    "            \"outcomes\": {\"X\": \"loss\", \"Y\": \"draw\", \"Z\": \"win\"}}\n",
    "\n",
    "shapes = {\"rock\": \"X\", \"paper\": \"Y\", \"scissors\": \"Z\"}"
   ]
  },
  {
   "cell_type": "code",
   "execution_count": null,
   "metadata": {},
   "outputs": [],
   "source": [
    "defeats = {\"rock\": \"scissors\", \"scissors\": \"paper\", \"paper\": \"rock\"}"
   ]
  },
  {
   "cell_type": "code",
   "execution_count": null,
   "metadata": {},
   "outputs": [],
   "source": [
    "def choose_shape(them, desired_outcome):\n",
    "    their_shape = new_code[\"shapes\"][them]\n",
    "    outcome = new_code[\"outcomes\"][desired_outcome]\n",
    "    if outcome == \"win\":\n",
    "        shape = defeated_by[their_shape]\n",
    "    elif outcome == \"loss\":\n",
    "        shape = defeats[their_shape]\n",
    "    else:\n",
    "        shape = their_shape\n",
    "    return shapes[shape]"
   ]
  },
  {
   "cell_type": "code",
   "execution_count": null,
   "metadata": {},
   "outputs": [],
   "source": [
    "new_total = 0\n",
    "for game in games:\n",
    "    new_total += calculate_score(game[0], choose_shape(game[0], game[1]))"
   ]
  },
  {
   "cell_type": "code",
   "execution_count": null,
   "metadata": {},
   "outputs": [],
   "source": [
    "new_total"
   ]
  }
 ],
 "metadata": {
  "kernelspec": {
   "display_name": "Python 3",
   "language": "python",
   "name": "python3"
  },
  "language_info": {
   "codemirror_mode": {
    "name": "ipython",
    "version": 3
   },
   "file_extension": ".py",
   "mimetype": "text/x-python",
   "name": "python",
   "nbconvert_exporter": "python",
   "pygments_lexer": "ipython3",
   "version": "3.7.6"
  }
 },
 "nbformat": 4,
 "nbformat_minor": 4
}
