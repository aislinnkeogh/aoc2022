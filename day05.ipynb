{
 "cells": [
  {
   "cell_type": "code",
   "execution_count": null,
   "metadata": {},
   "outputs": [],
   "source": [
    "import copy"
   ]
  },
  {
   "cell_type": "code",
   "execution_count": null,
   "metadata": {},
   "outputs": [],
   "source": [
    "with open(\"input_day5.txt\") as f:\n",
    "    lines = [line.rstrip(\"\\n\") for line in f.readlines()]"
   ]
  },
  {
   "cell_type": "code",
   "execution_count": null,
   "metadata": {},
   "outputs": [],
   "source": [
    "starting_stacks = lines[0:lines.index(\"\")]"
   ]
  },
  {
   "cell_type": "code",
   "execution_count": null,
   "metadata": {},
   "outputs": [],
   "source": [
    "vertical_stacks = [[*starting_stacks[i][1::4]] for i in range(len(starting_stacks)-1)]"
   ]
  },
  {
   "cell_type": "code",
   "execution_count": null,
   "metadata": {},
   "outputs": [],
   "source": [
    "horizontal_stacks = [[vertical_stacks[-j-1][i] for j in range(len(vertical_stacks))] for i in range(int(starting_stacks[-1][-2]))]"
   ]
  },
  {
   "cell_type": "code",
   "execution_count": null,
   "metadata": {},
   "outputs": [],
   "source": [
    "stacks = [[e for e in horizontal_stacks[i] if e!=\" \"] for i in range(len(horizontal_stacks))]"
   ]
  },
  {
   "cell_type": "code",
   "execution_count": null,
   "metadata": {},
   "outputs": [],
   "source": [
    "# hardcoded_stacks = [\n",
    "#     [\"Z\", \"J\", \"G\"],\n",
    "#     [\"Q\", \"L\", \"R\", \"P\", \"W\", \"F\", \"V\", \"C\"],\n",
    "#     [\"F\", \"P\", \"M\", \"C\", \"L\", \"G\", \"R\"],\n",
    "#     [\"L\", \"F\", \"B\", \"W\", \"P\", \"H\", \"M\"],\n",
    "#     [\"G\", \"C\", \"F\", \"S\", \"V\", \"Q\"],\n",
    "#     [\"W\", \"H\", \"J\", \"Z\", \"M\", \"Q\", \"T\", \"L\"],\n",
    "#     [\"H\", \"F\", \"S\", \"B\", \"V\"],\n",
    "#     [\"F\", \"J\", \"Z\", \"S\"],\n",
    "#     [\"M\", \"C\", \"D\", \"P\", \"F\", \"H\", \"B\", \"T\"]\n",
    "# ]"
   ]
  },
  {
   "cell_type": "code",
   "execution_count": null,
   "metadata": {},
   "outputs": [],
   "source": [
    "instructions = [[int(e) for e in line.split() if e.isdigit()] for line in lines[lines.index(\"\")+1:]]"
   ]
  },
  {
   "cell_type": "code",
   "execution_count": null,
   "metadata": {},
   "outputs": [],
   "source": [
    "def move(n, from_stack, to_stack, version):\n",
    "    if version==\"9000\":\n",
    "        for i in range(n):\n",
    "            e = from_stack.pop(-1)\n",
    "            to_stack.append(e)\n",
    "    elif version==\"9001\":\n",
    "        to_stack += from_stack[-n:]\n",
    "        del from_stack[-n:]"
   ]
  },
  {
   "cell_type": "code",
   "execution_count": null,
   "metadata": {},
   "outputs": [],
   "source": [
    "stacks_p1 = copy.deepcopy(stacks)\n",
    "for i in instructions:\n",
    "    move(i[0], stacks_p1[i[1]-1], stacks_p1[i[2]-1], \"9000\")"
   ]
  },
  {
   "cell_type": "code",
   "execution_count": null,
   "metadata": {},
   "outputs": [],
   "source": [
    "solution_p1 = \"\"\n",
    "for i in range(len(stacks_p1)):\n",
    "    solution_p1 += stacks_p1[i][-1]\n",
    "solution_p1"
   ]
  },
  {
   "cell_type": "code",
   "execution_count": null,
   "metadata": {},
   "outputs": [],
   "source": [
    "stacks_p2 = copy.deepcopy(stacks)\n",
    "for i in instructions:\n",
    "    move(i[0], stacks_p2[i[1]-1], stacks_p2[i[2]-1], \"9001\")"
   ]
  },
  {
   "cell_type": "code",
   "execution_count": null,
   "metadata": {},
   "outputs": [],
   "source": [
    "solution_p2 = \"\"\n",
    "for i in range(len(stacks_p2)):\n",
    "    solution_p2 += stacks_p2[i][-1]\n",
    "solution_p2"
   ]
  }
 ],
 "metadata": {
  "kernelspec": {
   "display_name": "Python 3",
   "language": "python",
   "name": "python3"
  },
  "language_info": {
   "codemirror_mode": {
    "name": "ipython",
    "version": 3
   },
   "file_extension": ".py",
   "mimetype": "text/x-python",
   "name": "python",
   "nbconvert_exporter": "python",
   "pygments_lexer": "ipython3",
   "version": "3.7.6"
  }
 },
 "nbformat": 4,
 "nbformat_minor": 4
}
